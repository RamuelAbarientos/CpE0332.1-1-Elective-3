{
  "nbformat": 4,
  "nbformat_minor": 0,
  "metadata": {
    "colab": {
      "provenance": [],
      "authorship_tag": "ABX9TyPvBNyWlKcxtUufhQykHFQ0",
      "include_colab_link": true
    },
    "kernelspec": {
      "name": "python3",
      "display_name": "Python 3"
    },
    "language_info": {
      "name": "python"
    }
  },
  "cells": [
    {
      "cell_type": "markdown",
      "metadata": {
        "id": "view-in-github",
        "colab_type": "text"
      },
      "source": [
        "<a href=\"https://colab.research.google.com/github/RamuelAbarientos/CpE0332.1-1-Elective-3/blob/main/Conditional_Statement.ipynb\" target=\"_parent\"><img src=\"https://colab.research.google.com/assets/colab-badge.svg\" alt=\"Open In Colab\"/></a>"
      ]
    },
    {
      "cell_type": "markdown",
      "source": [
        "If Statement"
      ],
      "metadata": {
        "id": "CIoW-sKTCRqM"
      }
    },
    {
      "cell_type": "code",
      "execution_count": 38,
      "metadata": {
        "colab": {
          "base_uri": "https://localhost:8080/"
        },
        "id": "xOjRMeHVB1WU",
        "outputId": "bd6b0830-afb0-4cf0-9e5c-8e1db8964951"
      },
      "outputs": [
        {
          "output_type": "stream",
          "name": "stdout",
          "text": [
            "a is less than b\n"
          ]
        }
      ],
      "source": [
        "a = 12\n",
        "b= 100\n",
        "\n",
        "\n",
        "if a<b:\n",
        "    print(\"a is less than b\")"
      ]
    },
    {
      "cell_type": "markdown",
      "source": [
        "Elif Statement"
      ],
      "metadata": {
        "id": "jYx4vM2NCnkd"
      }
    },
    {
      "cell_type": "code",
      "source": [
        "print(\"Enter your age: \")\n",
        "age = int(input())\n",
        "if age >= 18:\n",
        "    print(\"you are qualified to get a license\")\n",
        "elif age<18:\n",
        "    print(\"you are not qualified to get a license\")\n"
      ],
      "metadata": {
        "colab": {
          "base_uri": "https://localhost:8080/"
        },
        "id": "CRx0kx-xCrKJ",
        "outputId": "679653b2-bd58-41ea-b9b4-9e872377eec4"
      },
      "execution_count": 13,
      "outputs": [
        {
          "output_type": "stream",
          "name": "stdout",
          "text": [
            "Enter your age: \n",
            "12\n",
            "you are not qualified to get a license\n"
          ]
        }
      ]
    },
    {
      "cell_type": "markdown",
      "source": [
        "Else Statement"
      ],
      "metadata": {
        "id": "DBE0OHpQEiCO"
      }
    },
    {
      "cell_type": "code",
      "source": [
        "print(\"Enter an integer:\")\n",
        "x= int(input())\n",
        "if x > 0:\n",
        "    print(\"Positive number\")\n",
        "elif x < 0:\n",
        "    print(\"Negative number\")\n",
        "else:\n",
        "    print(\"Zero\")\n"
      ],
      "metadata": {
        "colab": {
          "base_uri": "https://localhost:8080/"
        },
        "id": "vMlCpTekEja7",
        "outputId": "edd10935-8b3d-4c17-9bf8-e0e1713fa956"
      },
      "execution_count": 15,
      "outputs": [
        {
          "output_type": "stream",
          "name": "stdout",
          "text": [
            "Enter an integer:\n",
            "0\n",
            "Zero\n"
          ]
        }
      ]
    },
    {
      "cell_type": "markdown",
      "source": [
        "Short Hand If Statement"
      ],
      "metadata": {
        "id": "2zNRhISeFfTJ"
      }
    },
    {
      "cell_type": "code",
      "source": [
        "if a<b: print (\"a is less than b\")"
      ],
      "metadata": {
        "colab": {
          "base_uri": "https://localhost:8080/"
        },
        "id": "BNK4vK5wFiFK",
        "outputId": "abbbf0c3-e287-49f6-a086-acc1fb44efe1"
      },
      "execution_count": 16,
      "outputs": [
        {
          "output_type": "stream",
          "name": "stdout",
          "text": [
            "a is less than b\n"
          ]
        }
      ]
    },
    {
      "cell_type": "markdown",
      "source": [
        "Short Hand If..Else Statement"
      ],
      "metadata": {
        "id": "TY9WgKfRFlUP"
      }
    },
    {
      "cell_type": "code",
      "source": [
        "print(\"a is greater than b\") if a>b else print(\"b is greater than a\")"
      ],
      "metadata": {
        "colab": {
          "base_uri": "https://localhost:8080/"
        },
        "id": "inIbdaUJFpyN",
        "outputId": "2cb17880-9fb5-4d81-ab7a-72e422509ba5"
      },
      "execution_count": 17,
      "outputs": [
        {
          "output_type": "stream",
          "name": "stdout",
          "text": [
            "b is greater than a\n"
          ]
        }
      ]
    },
    {
      "cell_type": "markdown",
      "source": [
        "And Statement"
      ],
      "metadata": {
        "id": "O6I-ymNLGTOu"
      }
    },
    {
      "cell_type": "code",
      "source": [
        "c = 500\n",
        "if a<b and c>a:\n",
        "    print(\"Both statements are True\")"
      ],
      "metadata": {
        "colab": {
          "base_uri": "https://localhost:8080/"
        },
        "id": "Qo1BBA-4Gjci",
        "outputId": "cfa678ef-9253-4a7e-8eae-1ea7d447fd2b"
      },
      "execution_count": 20,
      "outputs": [
        {
          "output_type": "stream",
          "name": "stdout",
          "text": [
            "Both statements are True\n"
          ]
        }
      ]
    },
    {
      "cell_type": "markdown",
      "source": [
        "Or Statement"
      ],
      "metadata": {
        "id": "kjuUoAdIHEFv"
      }
    },
    {
      "cell_type": "code",
      "source": [
        "if a>b or c>a:\n",
        "    print(\"Both statements are True\")"
      ],
      "metadata": {
        "colab": {
          "base_uri": "https://localhost:8080/"
        },
        "id": "GrcMAJTMHFZo",
        "outputId": "3c70f260-18b0-4ccc-df56-cd26427338f8"
      },
      "execution_count": 21,
      "outputs": [
        {
          "output_type": "stream",
          "name": "stdout",
          "text": [
            "Both statements are True\n"
          ]
        }
      ]
    },
    {
      "cell_type": "markdown",
      "source": [
        "Nested If Statement"
      ],
      "metadata": {
        "id": "DP48iwupHqHa"
      }
    },
    {
      "cell_type": "code",
      "source": [
        "\n",
        "print (\"Enter a number: \")\n",
        "x = int(input())\n",
        "if x > 10:\n",
        "  print(\"Above 10,\")\n",
        "  if x > 20:\n",
        "    print(\"and also above 20!\")\n",
        "    if x > 30:\n",
        "      print(\"and also above 30!\")\n",
        "      if x > 40:\n",
        "        print(\"and also above 40!\")\n",
        "        if x > 50:\n",
        "          print(\"and also above 50.\")\n",
        "        else:\n",
        "          print(\"but not above 50.\")\n",
        "      else:\n",
        "          print(\"but not above 40.\")\n",
        "    else:\n",
        "        print(\"but not above 30.\")\n",
        "  else:\n",
        "      print(\"but not above 20.\")\n",
        "else:\n",
        "    print(\"but not above 10.\")\n",
        "\n"
      ],
      "metadata": {
        "colab": {
          "base_uri": "https://localhost:8080/"
        },
        "id": "Y_B6DZf3HtrC",
        "outputId": "fcc58ab4-ee65-431c-ac3c-1887a2479aae"
      },
      "execution_count": 43,
      "outputs": [
        {
          "output_type": "stream",
          "name": "stdout",
          "text": [
            "Enter a number: \n",
            "45\n",
            "Above 10,\n",
            "and also above 20!\n",
            "and also above 30!\n",
            "and also above 40!\n",
            "but not above 50.\n"
          ]
        }
      ]
    },
    {
      "cell_type": "markdown",
      "source": [
        "Application 2 Write a program to determine if the grades are:\n",
        "\n",
        "If:​\n",
        "\n",
        "\t  grade > = 75 , “Passed”​\n",
        "\n",
        "\t  grade = 74, “Remedial”​\n",
        "\n",
        "\t  grade < 74, “Failed”​\n",
        "\n",
        "\t  note: if grade is a negative number, it will not accepted​\n"
      ],
      "metadata": {
        "id": "oly0ZGUrLZTy"
      }
    },
    {
      "cell_type": "code",
      "source": [
        "grade = float(input(\"Enter your grade: \"))\n",
        "if grade < 0 or grade > 100:\n",
        "    print(\"Invalid input\")\n",
        "else:\n",
        "    if round(grade) >= 75.00:\n",
        "        print(\"Passed\")\n",
        "    elif round(grade) == 74.00:\n",
        "        print(\"Remedial\")\n",
        "    else:\n",
        "        print(\"Failed\")"
      ],
      "metadata": {
        "colab": {
          "base_uri": "https://localhost:8080/"
        },
        "id": "iyLXWb9pMPN4",
        "outputId": "583182f5-aa75-419b-93e7-b1046a9a05de"
      },
      "execution_count": 90,
      "outputs": [
        {
          "output_type": "stream",
          "name": "stdout",
          "text": [
            "Enter your grade: 74.9\n",
            "Passed\n"
          ]
        }
      ]
    }
  ]
}