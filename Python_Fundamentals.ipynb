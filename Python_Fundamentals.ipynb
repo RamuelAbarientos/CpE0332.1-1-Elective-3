{
  "nbformat": 4,
  "nbformat_minor": 0,
  "metadata": {
    "colab": {
      "provenance": [],
      "authorship_tag": "ABX9TyOFT2vtkcEu6Rq0I6v0pwve",
      "include_colab_link": true
    },
    "kernelspec": {
      "name": "python3",
      "display_name": "Python 3"
    },
    "language_info": {
      "name": "python"
    }
  },
  "cells": [
    {
      "cell_type": "markdown",
      "metadata": {
        "id": "view-in-github",
        "colab_type": "text"
      },
      "source": [
        "<a href=\"https://colab.research.google.com/github/RamuelAbarientos/CpE0332.1-1-Elective-3/blob/main/Python_Fundamentals.ipynb\" target=\"_parent\"><img src=\"https://colab.research.google.com/assets/colab-badge.svg\" alt=\"Open In Colab\"/></a>"
      ]
    },
    {
      "cell_type": "markdown",
      "source": [
        "Python Indentation"
      ],
      "metadata": {
        "id": "w0JVEVRii-eH"
      }
    },
    {
      "cell_type": "code",
      "source": [
        "x = 3\n",
        "y = 2\n",
        "if 5 > 2:\n",
        "    print(\"Five is greater than two!\")"
      ],
      "metadata": {
        "colab": {
          "base_uri": "https://localhost:8080/"
        },
        "id": "wO3Z_ogTjIzv",
        "outputId": "a2e6d1f8-979c-4250-ea70-d2702ed11c3d"
      },
      "execution_count": 68,
      "outputs": [
        {
          "output_type": "stream",
          "name": "stdout",
          "text": [
            "Five is greater than two!\n"
          ]
        }
      ]
    },
    {
      "cell_type": "markdown",
      "source": [
        "Python Comment"
      ],
      "metadata": {
        "id": "YZdBk03vkX2W"
      }
    },
    {
      "cell_type": "code",
      "source": [
        "print(\"Hello World\") #This is a python comment"
      ],
      "metadata": {
        "colab": {
          "base_uri": "https://localhost:8080/"
        },
        "id": "Zeox-Lp9kbDV",
        "outputId": "d1f0c433-2fc2-4783-cda4-0db3a92e04e2"
      },
      "execution_count": 22,
      "outputs": [
        {
          "output_type": "stream",
          "name": "stdout",
          "text": [
            "Hello World\n"
          ]
        }
      ]
    },
    {
      "cell_type": "markdown",
      "source": [
        "Python Variable"
      ],
      "metadata": {
        "id": "ZoVGler4krJf"
      }
    },
    {
      "cell_type": "code",
      "source": [
        "z = 1\n",
        "z,s = 0,-1\n",
        "z,s,t = 8,9,10\n",
        "z\n",
        "s\n",
        "t"
      ],
      "metadata": {
        "colab": {
          "base_uri": "https://localhost:8080/"
        },
        "id": "xFbc_Jesktwd",
        "outputId": "5dbfd093-98b2-4c58-e19c-212fc6125286"
      },
      "execution_count": 28,
      "outputs": [
        {
          "output_type": "execute_result",
          "data": {
            "text/plain": [
              "10"
            ]
          },
          "metadata": {},
          "execution_count": 28
        }
      ]
    },
    {
      "cell_type": "markdown",
      "source": [
        "Casting"
      ],
      "metadata": {
        "id": "1zvxHQenmBnH"
      }
    },
    {
      "cell_type": "code",
      "source": [
        "b = \"sally\"  # This is a type of string\n",
        "b = int(4)\n",
        "b"
      ],
      "metadata": {
        "colab": {
          "base_uri": "https://localhost:8080/"
        },
        "id": "q9O7oeM4mEXT",
        "outputId": "1641dd03-eef7-4411-bc0d-8f6cbc5172c3"
      },
      "execution_count": 33,
      "outputs": [
        {
          "output_type": "execute_result",
          "data": {
            "text/plain": [
              "4"
            ]
          },
          "metadata": {},
          "execution_count": 33
        }
      ]
    },
    {
      "cell_type": "markdown",
      "source": [
        "Type() function"
      ],
      "metadata": {
        "id": "TEOmtk5XmZ4d"
      }
    },
    {
      "cell_type": "code",
      "source": [
        "print(type(b))"
      ],
      "metadata": {
        "colab": {
          "base_uri": "https://localhost:8080/"
        },
        "id": "usZKAVh1mipx",
        "outputId": "d879a232-1545-4477-e72f-745d17a54236"
      },
      "execution_count": 35,
      "outputs": [
        {
          "output_type": "stream",
          "name": "stdout",
          "text": [
            "<class 'int'>\n"
          ]
        }
      ]
    },
    {
      "cell_type": "markdown",
      "source": [
        "Double Quotes and Single Quotes"
      ],
      "metadata": {
        "id": "HqC3Zeugm6vz"
      }
    },
    {
      "cell_type": "code",
      "source": [
        "w = \"Ana\"\n",
        "print(w)\n",
        "q = 'Ana'\n",
        "print(q)"
      ],
      "metadata": {
        "colab": {
          "base_uri": "https://localhost:8080/"
        },
        "id": "HtEHYBeDnBf9",
        "outputId": "78e13e96-4ea3-4ccd-c4b7-602f42b8b694"
      },
      "execution_count": 38,
      "outputs": [
        {
          "output_type": "stream",
          "name": "stdout",
          "text": [
            "Ana\n",
            "Ana\n"
          ]
        }
      ]
    },
    {
      "cell_type": "markdown",
      "source": [
        "Case Sensitive"
      ],
      "metadata": {
        "id": "95mSS2vJnZFI"
      }
    },
    {
      "cell_type": "code",
      "source": [
        "a = int(4)\n",
        "A = \"Sally\"\n",
        "a\n",
        "A\n"
      ],
      "metadata": {
        "colab": {
          "base_uri": "https://localhost:8080/",
          "height": 35
        },
        "id": "Mu-xqJB_ncZ4",
        "outputId": "5e9128b2-353d-430e-e776-97984455efcc"
      },
      "execution_count": 41,
      "outputs": [
        {
          "output_type": "execute_result",
          "data": {
            "text/plain": [
              "'Sally'"
            ],
            "application/vnd.google.colaboratory.intrinsic+json": {
              "type": "string"
            }
          },
          "metadata": {},
          "execution_count": 41
        }
      ]
    },
    {
      "cell_type": "markdown",
      "source": [
        "Multiple Variables"
      ],
      "metadata": {
        "id": "SaGAGXoOn9in"
      }
    },
    {
      "cell_type": "code",
      "source": [
        "h, i, j = \"one\", \"two\", \"three\"\n",
        "print(h)\n",
        "print(i)\n",
        "print(j)"
      ],
      "metadata": {
        "colab": {
          "base_uri": "https://localhost:8080/"
        },
        "id": "l2IX0HBIn_Nd",
        "outputId": "cf001c43-f2ba-4f13-dc4b-9d499fa109d5"
      },
      "execution_count": 42,
      "outputs": [
        {
          "output_type": "stream",
          "name": "stdout",
          "text": [
            "one\n",
            "two\n",
            "three\n"
          ]
        }
      ]
    },
    {
      "cell_type": "markdown",
      "source": [
        "Multiple Variables with Single Value"
      ],
      "metadata": {
        "id": "fSOtAkQ_oV0S"
      }
    },
    {
      "cell_type": "code",
      "source": [
        "k = l = m = 'four'\n",
        "print(k)\n",
        "print(l)\n",
        "print(m)"
      ],
      "metadata": {
        "colab": {
          "base_uri": "https://localhost:8080/"
        },
        "id": "QFChgXYLoaAo",
        "outputId": "5fa22717-704b-46d8-cbf8-0e4f53a0ed60"
      },
      "execution_count": 45,
      "outputs": [
        {
          "output_type": "stream",
          "name": "stdout",
          "text": [
            "four\n",
            "four\n",
            "four\n"
          ]
        }
      ]
    },
    {
      "cell_type": "markdown",
      "source": [
        "Output Variable and concatenation +"
      ],
      "metadata": {
        "id": "I1jFfhQxo7su"
      }
    },
    {
      "cell_type": "code",
      "source": [
        "n = \"enjoying\"\n",
        "p = \"Python programming is \"\n",
        "print(p+n)"
      ],
      "metadata": {
        "colab": {
          "base_uri": "https://localhost:8080/"
        },
        "id": "Hy4Sf7IFpB2Q",
        "outputId": "1aa678a9-dd2c-438c-8851-a1171d9e9ff0"
      },
      "execution_count": 48,
      "outputs": [
        {
          "output_type": "stream",
          "name": "stdout",
          "text": [
            "Python programming is enjoying\n"
          ]
        }
      ]
    },
    {
      "cell_type": "markdown",
      "source": [
        "Arithmetic Operations"
      ],
      "metadata": {
        "id": "6I9rJOwkvLos"
      }
    },
    {
      "cell_type": "code",
      "source": [
        "print(x + y) #Addtion\n",
        "print(x - y) #Subtraction\n",
        "print(x * y) #Multiplication\n",
        "print(x / y) #Division\n",
        "print(x//y)  #Floor Division\n",
        "print(x%y)   #Modulus\n",
        "print(x**y)  #Exponentiation"
      ],
      "metadata": {
        "colab": {
          "base_uri": "https://localhost:8080/"
        },
        "id": "Up1-gKayvPBt",
        "outputId": "b73f2531-2c25-4f49-c04a-b8153e72d36d"
      },
      "execution_count": 54,
      "outputs": [
        {
          "output_type": "stream",
          "name": "stdout",
          "text": [
            "7\n",
            "3\n",
            "10\n",
            "2.5\n",
            "2\n",
            "1\n",
            "25\n"
          ]
        }
      ]
    },
    {
      "cell_type": "markdown",
      "source": [
        "Assignemnt Operator"
      ],
      "metadata": {
        "id": "snIa4YI0wzaN"
      }
    },
    {
      "cell_type": "code",
      "source": [
        "x+=3 #same as x = x+3\n",
        "print(x)"
      ],
      "metadata": {
        "colab": {
          "base_uri": "https://localhost:8080/"
        },
        "id": "aseaHADsw2wx",
        "outputId": "a7f01a1b-7da2-4441-dab5-cb1be30ee6a6"
      },
      "execution_count": 72,
      "outputs": [
        {
          "output_type": "stream",
          "name": "stdout",
          "text": [
            "6\n"
          ]
        }
      ]
    },
    {
      "cell_type": "markdown",
      "source": [
        "Comparison Operator"
      ],
      "metadata": {
        "id": "o3ibleVkxLMC"
      }
    },
    {
      "cell_type": "code",
      "source": [
        "print(x == y) #x=3, y=2\n",
        "print(x!=y)\n",
        "print(x>y)\n",
        "print(x<y)\n"
      ],
      "metadata": {
        "colab": {
          "base_uri": "https://localhost:8080/"
        },
        "id": "ZuAwDH6KxNRq",
        "outputId": "4ce58a5b-74ff-41d4-ee52-6bffa5be95ef"
      },
      "execution_count": 71,
      "outputs": [
        {
          "output_type": "stream",
          "name": "stdout",
          "text": [
            "False\n",
            "True\n",
            "True\n",
            "False\n"
          ]
        }
      ]
    },
    {
      "cell_type": "markdown",
      "source": [
        "Logical Operators"
      ],
      "metadata": {
        "id": "YimunYQmx7xh"
      }
    },
    {
      "cell_type": "code",
      "source": [
        "print(x==y and x!=y) #True and False\n",
        "print(x==y or x!=y) #False or True\n",
        "print(not(x==y or x!=y)) #negate(False or True)"
      ],
      "metadata": {
        "colab": {
          "base_uri": "https://localhost:8080/"
        },
        "id": "m7KoPH0Vx_OU",
        "outputId": "910b0b61-e847-4f54-96e3-162f93fea6f8"
      },
      "execution_count": 63,
      "outputs": [
        {
          "output_type": "stream",
          "name": "stdout",
          "text": [
            "False\n",
            "True\n",
            "False\n"
          ]
        }
      ]
    },
    {
      "cell_type": "markdown",
      "source": [
        "Identity Operators"
      ],
      "metadata": {
        "id": "3cR6Aq7dy_0T"
      }
    },
    {
      "cell_type": "code",
      "source": [
        "print(x is y) #False\n",
        "print(x is not y) #True"
      ],
      "metadata": {
        "colab": {
          "base_uri": "https://localhost:8080/"
        },
        "id": "jn9kh15pzB_2",
        "outputId": "687b866c-25eb-4554-945b-710011a3355f"
      },
      "execution_count": 65,
      "outputs": [
        {
          "output_type": "stream",
          "name": "stdout",
          "text": [
            "False\n",
            "True\n"
          ]
        }
      ]
    },
    {
      "cell_type": "markdown",
      "source": [
        "Bitwise Operators"
      ],
      "metadata": {
        "id": "EpuBB404zb8J"
      }
    },
    {
      "cell_type": "code",
      "source": [
        "#10 + 1 = 11    ; 1010 + 0001 = 1011\n",
        "print(10 | 1)\n",
        "\n",
        "print(x>>1)   #x=3  ,  011"
      ],
      "metadata": {
        "colab": {
          "base_uri": "https://localhost:8080/"
        },
        "id": "nDdPwJv8zeHd",
        "outputId": "c0b8a344-fb5a-492a-ab16-1332a3fd8948"
      },
      "execution_count": 73,
      "outputs": [
        {
          "output_type": "stream",
          "name": "stdout",
          "text": [
            "11\n",
            "3\n"
          ]
        }
      ]
    }
  ]
}